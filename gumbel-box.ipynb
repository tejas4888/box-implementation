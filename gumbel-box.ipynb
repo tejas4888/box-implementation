{
 "cells": [
  {
   "cell_type": "code",
   "execution_count": 1,
   "id": "a2aa0764",
   "metadata": {},
   "outputs": [
    {
     "name": "stderr",
     "output_type": "stream",
     "text": [
      "AllenNLP not available. Registrable won't work.\n"
     ]
    }
   ],
   "source": [
    "import tensorflow as tf\n",
    "import numpy as np\n",
    "from box_embeddings.modules.intersection.tf_intersection import TFIntersection\n",
    "from box_embeddings.modules.volume.tf_volume import TFVolume\n",
    "from box_embeddings.parameterizations.tf_box_tensor import TFBoxFactory\n",
    "import tensorflow_probability as tfp\n",
    "from tensorflow.keras import Model\n",
    "from box_embeddings.modules.tf_embedding import TFBoxEmbedding"
   ]
  },
  {
   "cell_type": "code",
   "execution_count": 2,
   "id": "c7adae5d",
   "metadata": {},
   "outputs": [],
   "source": [
    "x_train=[]\n",
    "y_train=[]"
   ]
  },
  {
   "cell_type": "code",
   "execution_count": 3,
   "id": "4e6ccaca",
   "metadata": {},
   "outputs": [],
   "source": [
    "f = open(\"classification_samples_valid2id.txt\", \"r\")\n",
    "for x in f:\n",
    "    x = x.split(\" \")\n",
    "    if len(x)<4:\n",
    "        continue\n",
    "    else:\n",
    "        x_train.append([x[0],x[1]])\n",
    "        y_train.append(x[3])"
   ]
  },
  {
   "cell_type": "code",
   "execution_count": 5,
   "id": "dd470f56",
   "metadata": {},
   "outputs": [
    {
     "name": "stdout",
     "output_type": "stream",
     "text": [
      "317218\n",
      "317218\n",
      "['61136', '13652']\n",
      "1\n",
      "\n"
     ]
    }
   ],
   "source": [
    "print(len(x_train))\n",
    "print(len(y_train))\n",
    "print(x_train[0])\n",
    "print(y_train[0])"
   ]
  },
  {
   "cell_type": "code",
   "execution_count": 41,
   "id": "1dfea092",
   "metadata": {},
   "outputs": [],
   "source": [
    "def TFNNLoss(y_pred,y_orig):\n",
    "    y_pred = tf.stack([tfp.math.log1mexp(y_pred),y_pred],axis=-1)\n",
    "    mask = y_orig>0\n",
    "    y_pred_T = tf.transpose(y_pred)\n",
    "    res = y_pred_T[1]\n",
    "    res = tf.where(mask,res,y_pred_T[0])\n",
    "    return tf.reduce_mean(-res)\n",
    "\n",
    "def run_optimization(x_h, x_p, y):\n",
    "    with tf.GradientTape() as g:\n",
    "        pred = neural_net(x_h, x_p, is_training=True)\n",
    "        loss = TFNNLoss(pred, y)\n",
    "        \n",
    "    trainable_variables = neural_net.trainable_variables\n",
    "    gradients = g.gradient(loss, trainable_variables)\n",
    "    optimizer.apply_gradients(zip(gradients, trainable_variables))\n",
    "    \n",
    "def accuracy(y_pred, y_true):\n",
    "    y_pred = tf.stack([tfp.math.log1mexp(y_pred),y_pred],axis=-1)\n",
    "    correct_prediction = tf.equal(tf.argmax(y_pred, 0), tf.cast(y_true, tf.int64))\n",
    "    return tf.reduce_mean(tf.cast(correct_prediction, tf.float32))"
   ]
  },
  {
   "cell_type": "code",
   "execution_count": 42,
   "id": "469a392a",
   "metadata": {},
   "outputs": [],
   "source": [
    "class NeuralNet(Model):\n",
    "    \n",
    "    def __init__(self, box_factory, box_intersection, box_volume):\n",
    "        super(NeuralNet, self).__init__()\n",
    "        \n",
    "        self.box_factory = box_factory\n",
    "        self.box_intersection = box_intersection\n",
    "        self.box_volume = box_volume\n",
    "        self.embedder = TFBoxEmbedding(84363, 100)\n",
    "        \n",
    "    \n",
    "    def __call__(self, head, tail, is_training=False):\n",
    "        premise_embeddings = self.embedder.embeddings[head]\n",
    "        hypothesis_embeddings = self.embedder.embeddings[tail] \n",
    "            \n",
    "        premise_box = self.box_factory(premise_embeddings)\n",
    "        hypothesis_box = self.box_factory(hypothesis_embeddings)\n",
    "        \n",
    "        output = self.box_volume(self.box_intersection(premise_box, hypothesis_box)) - self.box_volume(premise_box)\n",
    "        \n",
    "        return output"
   ]
  },
  {
   "cell_type": "code",
   "execution_count": 43,
   "id": "e8618c84",
   "metadata": {},
   "outputs": [],
   "source": [
    "box_factory = TFBoxFactory('mindelta_from_vector')\n",
    "box_volume = TFVolume(volume_temperature=100)\n",
    "box_intersection = TFIntersection(intersection_temperature=10)\n",
    "\n",
    "display_step=100\n",
    "epochs=20\n",
    "\n",
    "\n",
    "optimizer = tf.keras.optimizers.Adam(0.01)\n",
    "neural_net = NeuralNet(box_factory,box_intersection,box_volume)"
   ]
  },
  {
   "cell_type": "code",
   "execution_count": 45,
   "id": "f40b4fd0",
   "metadata": {},
   "outputs": [
    {
     "name": "stdout",
     "output_type": "stream",
     "text": [
      "epoch: 1, step: 0, loss: 10.157183\n",
      "epoch: 2, step: 0, loss: 10.156011\n"
     ]
    }
   ],
   "source": [
    "for epoch in range(1,epochs+1):\n",
    "    \n",
    "    for i,data in enumerate(x_train):\n",
    "        \n",
    "        run_optimization(x_train[i][0], x_train[i][1], y_train[i])\n",
    "\n",
    "        if i % display_step == 0:\n",
    "            pred = neural_net(x_train[i][0], x_train[i][1], is_training=True)\n",
    "            loss = TFNNLoss(pred, y_train[i])\n",
    "            #acc = accuracy(pred, y_train[i])\n",
    "            #write(str(datetime.datetime.now())+\" step: %i, loss: %f, accuracy: %f\" % (step, loss, acc),\"train-log.txt\")\n",
    "            print(\"epoch: %i, step: %i, loss: %f\" % (epoch, i, loss))"
   ]
  },
  {
   "cell_type": "code",
   "execution_count": null,
   "id": "457948ba",
   "metadata": {},
   "outputs": [],
   "source": []
  }
 ],
 "metadata": {
  "kernelspec": {
   "display_name": "Python 3",
   "language": "python",
   "name": "python3"
  },
  "language_info": {
   "codemirror_mode": {
    "name": "ipython",
    "version": 3
   },
   "file_extension": ".py",
   "mimetype": "text/x-python",
   "name": "python",
   "nbconvert_exporter": "python",
   "pygments_lexer": "ipython3",
   "version": "3.8.2"
  }
 },
 "nbformat": 4,
 "nbformat_minor": 5
}
